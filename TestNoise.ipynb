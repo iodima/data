{
 "cells": [
  {
   "cell_type": "code",
   "execution_count": 16,
   "metadata": {},
   "outputs": [
    {
     "data": {
      "text/plain": [
       "1000"
      ]
     },
     "execution_count": 16,
     "metadata": {},
     "output_type": "execute_result"
    }
   ],
   "source": [
    "using DelimitedFiles\n",
    "using Plots\n",
    "using Statistics\n",
    "using LinearAlgebra\n",
    "using Interpolations\n",
    "using DataFrames\n",
    "ENV[\"COLUMNS\"] = 1000\n",
    "ENV[\"LINES\"] = 1000"
   ]
  },
  {
   "cell_type": "code",
   "execution_count": 17,
   "metadata": {},
   "outputs": [
    {
     "data": {
      "text/plain": [
       "Plots.PlotlyBackend()"
      ]
     },
     "execution_count": 17,
     "metadata": {},
     "output_type": "execute_result"
    }
   ],
   "source": [
    "plotly()\n",
    "# pyplot()"
   ]
  },
  {
   "cell_type": "code",
   "execution_count": 31,
   "metadata": {},
   "outputs": [],
   "source": [
    "fileName = \"Exp03/AVG-by-100_CACOnUV-100_DACOnBL-28_SN2_COM5_08.06.2020.LOG\"\n",
    "name = \"Exp03/AVG-by-100_CACOnUV-100_DACOnBL-28_SN2_COM5_08.06.2020.LOG\"\n",
    "workTimeInd = 20000:40000 #length(data[:,1]);\n",
    "workChanInd = [1;9:12];\n",
    "data = readdlm(fileName,' ',skipstart=1)\n",
    "\n",
    "\n",
    "time = data[:, workChanInd[1]];\n",
    "spec = data[:, workChanInd[2:end]];\n",
    "# plt = plot(spec[:,:],title = \"AVG-by-1_DACOnUV-50_SN2_COM5_22.05.2020.LOG\",xlabel=\"Номер измерения\",ylabel = \"Напряжение, код АЦП\" )\n",
    "\n",
    "# savefig(plt , name*\".png\")\n",
    "# plt"
   ]
  },
  {
   "cell_type": "code",
   "execution_count": 19,
   "metadata": {},
   "outputs": [
    {
     "data": {
      "text/plain": [
       "getStatData (generic function with 1 method)"
      ]
     },
     "execution_count": 19,
     "metadata": {},
     "output_type": "execute_result"
    }
   ],
   "source": [
    "function getStatData(fileName,workChanInd,workTimeInd)\n",
    "    data = readdlm(fileName,' ',skipstart=1)\n",
    "    time = data[workTimeInd, workChanInd[1]]\n",
    "    spec = data[workTimeInd, workChanInd[2:end]]\n",
    "    \n",
    "    output = DataFrame();\n",
    "    MInd = Symbol(\"\\$\\\\bar{U}\\$\")\n",
    "    StdInd = Symbol(\"\\$\\\\sigma_{U}\\$\")\n",
    "    ErrInd = Symbol(\"\\$Err_{U}\\$\")\n",
    "    SNRInd = Symbol(\"\\$SNR_{U}\\$\")\n",
    "    output[!,MInd] = [mean(spec[:,i]) for i = 1:size(spec,2)]\n",
    "    output[!,StdInd] = [std(spec[:,i]) for i = 1:size(spec,2)]\n",
    "    output[!,ErrInd] = 3 .*output[:,StdInd]\n",
    "    output[!,SNRInd] = output[!,MInd]./output[!,ErrInd]\n",
    "    return output\n",
    "end"
   ]
  },
  {
   "cell_type": "markdown",
   "metadata": {},
   "source": [
    "# Плата №6 \n",
    "Исходный коэффециент усиления, усреднение по 1 точке\n",
    "файл COM18_N-AVG-1_SN6.LOG"
   ]
  },
  {
   "cell_type": "code",
   "execution_count": 20,
   "metadata": {},
   "outputs": [
    {
     "data": {
      "text/html": [
       "<table class=\"data-frame\"><thead><tr><th></th><th>$\\bar{U}$</th><th>$\\sigma_{U}$</th><th>$Err_{U}$</th><th>$SNR_{U}$</th></tr><tr><th></th><th>Float64</th><th>Float64</th><th>Float64</th><th>Float64</th></tr></thead><tbody><p>4 rows × 4 columns</p><tr><th>1</th><td>37467.1</td><td>61.288</td><td>183.864</td><td>203.776</td></tr><tr><th>2</th><td>41122.3</td><td>69.1582</td><td>207.475</td><td>198.204</td></tr><tr><th>3</th><td>48933.9</td><td>99.0102</td><td>297.031</td><td>164.744</td></tr><tr><th>4</th><td>42966.6</td><td>72.4126</td><td>217.238</td><td>197.786</td></tr></tbody></table>"
      ],
      "text/latex": [
       "\\begin{tabular}{r|cccc}\n",
       "\t& \\$\\textbackslash{}bar\\{U\\}\\$ & \\$\\textbackslash{}sigma\\_\\{U\\}\\$ & \\$Err\\_\\{U\\}\\$ & \\$SNR\\_\\{U\\}\\$\\\\\n",
       "\t\\hline\n",
       "\t& Float64 & Float64 & Float64 & Float64\\\\\n",
       "\t\\hline\n",
       "\t1 & 37467.1 & 61.288 & 183.864 & 203.776 \\\\\n",
       "\t2 & 41122.3 & 69.1582 & 207.475 & 198.204 \\\\\n",
       "\t3 & 48933.9 & 99.0102 & 297.031 & 164.744 \\\\\n",
       "\t4 & 42966.6 & 72.4126 & 217.238 & 197.786 \\\\\n",
       "\\end{tabular}\n"
      ],
      "text/plain": [
       "4×4 DataFrame\n",
       "│ Row │ $\\\\bar{U}$ │ $\\\\sigma_{U}$ │ $Err_{U}$ │ $SNR_{U}$ │\n",
       "│     │ \u001b[90mFloat64\u001b[39m    │ \u001b[90mFloat64\u001b[39m       │ \u001b[90mFloat64\u001b[39m   │ \u001b[90mFloat64\u001b[39m   │\n",
       "├─────┼────────────┼───────────────┼───────────┼───────────┤\n",
       "│ 1   │ 37467.1    │ 61.288        │ 183.864   │ 203.776   │\n",
       "│ 2   │ 41122.3    │ 69.1582       │ 207.475   │ 198.204   │\n",
       "│ 3   │ 48933.9    │ 99.0102       │ 297.031   │ 164.744   │\n",
       "│ 4   │ 42966.6    │ 72.4126       │ 217.238   │ 197.786   │"
      ]
     },
     "execution_count": 20,
     "metadata": {},
     "output_type": "execute_result"
    }
   ],
   "source": [
    "S6_1_10 = getStatData(\"Exp01/COM18_N-AVG-1_SN6.LOG\",workChanInd,20000:40000)"
   ]
  },
  {
   "cell_type": "markdown",
   "metadata": {},
   "source": [
    "# Плата №6 \n",
    "Исходный коэффециент усиления, усреднение по 100 точкам\n",
    "файл COM18_N-AVG-100_SN6.LOG"
   ]
  },
  {
   "cell_type": "code",
   "execution_count": 21,
   "metadata": {
    "jupyter": {
     "source_hidden": true
    }
   },
   "outputs": [
    {
     "data": {
      "text/html": [
       "<table class=\"data-frame\"><thead><tr><th></th><th>$\\bar{U}$</th><th>$\\sigma_{U}$</th><th>$Err_{U}$</th><th>$SNR_{U}$</th></tr><tr><th></th><th>Float64</th><th>Float64</th><th>Float64</th><th>Float64</th></tr></thead><tbody><p>4 rows × 4 columns</p><tr><th>1</th><td>37311.3</td><td>36.3062</td><td>108.919</td><td>342.561</td></tr><tr><th>2</th><td>41240.2</td><td>40.621</td><td>121.863</td><td>338.414</td></tr><tr><th>3</th><td>49040.3</td><td>48.8743</td><td>146.623</td><td>334.465</td></tr><tr><th>4</th><td>43053.4</td><td>41.9199</td><td>125.76</td><td>342.347</td></tr></tbody></table>"
      ],
      "text/latex": [
       "\\begin{tabular}{r|cccc}\n",
       "\t& \\$\\textbackslash{}bar\\{U\\}\\$ & \\$\\textbackslash{}sigma\\_\\{U\\}\\$ & \\$Err\\_\\{U\\}\\$ & \\$SNR\\_\\{U\\}\\$\\\\\n",
       "\t\\hline\n",
       "\t& Float64 & Float64 & Float64 & Float64\\\\\n",
       "\t\\hline\n",
       "\t1 & 37311.3 & 36.3062 & 108.919 & 342.561 \\\\\n",
       "\t2 & 41240.2 & 40.621 & 121.863 & 338.414 \\\\\n",
       "\t3 & 49040.3 & 48.8743 & 146.623 & 334.465 \\\\\n",
       "\t4 & 43053.4 & 41.9199 & 125.76 & 342.347 \\\\\n",
       "\\end{tabular}\n"
      ],
      "text/plain": [
       "4×4 DataFrame\n",
       "│ Row │ $\\\\bar{U}$ │ $\\\\sigma_{U}$ │ $Err_{U}$ │ $SNR_{U}$ │\n",
       "│     │ \u001b[90mFloat64\u001b[39m    │ \u001b[90mFloat64\u001b[39m       │ \u001b[90mFloat64\u001b[39m   │ \u001b[90mFloat64\u001b[39m   │\n",
       "├─────┼────────────┼───────────────┼───────────┼───────────┤\n",
       "│ 1   │ 37311.3    │ 36.3062       │ 108.919   │ 342.561   │\n",
       "│ 2   │ 41240.2    │ 40.621        │ 121.863   │ 338.414   │\n",
       "│ 3   │ 49040.3    │ 48.8743       │ 146.623   │ 334.465   │\n",
       "│ 4   │ 43053.4    │ 41.9199       │ 125.76    │ 342.347   │"
      ]
     },
     "execution_count": 21,
     "metadata": {},
     "output_type": "execute_result"
    }
   ],
   "source": [
    "S6_100_10 = getStatData(\"Exp01/COM18_N-AVG-100_SN6.LOG\",workChanInd,20000:21000)"
   ]
  },
  {
   "cell_type": "markdown",
   "metadata": {},
   "source": [
    "# Плата №4 \n",
    "Исходный коэффециент усиления, усреднение по 1 точке\n",
    "файл COM19_N-AVG-1_SN4.LOG"
   ]
  },
  {
   "cell_type": "code",
   "execution_count": 22,
   "metadata": {
    "jupyter": {
     "source_hidden": true
    }
   },
   "outputs": [
    {
     "data": {
      "text/html": [
       "<table class=\"data-frame\"><thead><tr><th></th><th>$\\bar{U}$</th><th>$\\sigma_{U}$</th><th>$Err_{U}$</th><th>$SNR_{U}$</th></tr><tr><th></th><th>Float64</th><th>Float64</th><th>Float64</th><th>Float64</th></tr></thead><tbody><p>4 rows × 4 columns</p><tr><th>1</th><td>27262.2</td><td>212.34</td><td>637.021</td><td>42.7964</td></tr><tr><th>2</th><td>46522.9</td><td>391.812</td><td>1175.44</td><td>39.5793</td></tr><tr><th>3</th><td>33385.7</td><td>280.754</td><td>842.262</td><td>39.6381</td></tr><tr><th>4</th><td>24892.4</td><td>190.354</td><td>571.062</td><td>43.5896</td></tr></tbody></table>"
      ],
      "text/latex": [
       "\\begin{tabular}{r|cccc}\n",
       "\t& \\$\\textbackslash{}bar\\{U\\}\\$ & \\$\\textbackslash{}sigma\\_\\{U\\}\\$ & \\$Err\\_\\{U\\}\\$ & \\$SNR\\_\\{U\\}\\$\\\\\n",
       "\t\\hline\n",
       "\t& Float64 & Float64 & Float64 & Float64\\\\\n",
       "\t\\hline\n",
       "\t1 & 27262.2 & 212.34 & 637.021 & 42.7964 \\\\\n",
       "\t2 & 46522.9 & 391.812 & 1175.44 & 39.5793 \\\\\n",
       "\t3 & 33385.7 & 280.754 & 842.262 & 39.6381 \\\\\n",
       "\t4 & 24892.4 & 190.354 & 571.062 & 43.5896 \\\\\n",
       "\\end{tabular}\n"
      ],
      "text/plain": [
       "4×4 DataFrame\n",
       "│ Row │ $\\\\bar{U}$ │ $\\\\sigma_{U}$ │ $Err_{U}$ │ $SNR_{U}$ │\n",
       "│     │ \u001b[90mFloat64\u001b[39m    │ \u001b[90mFloat64\u001b[39m       │ \u001b[90mFloat64\u001b[39m   │ \u001b[90mFloat64\u001b[39m   │\n",
       "├─────┼────────────┼───────────────┼───────────┼───────────┤\n",
       "│ 1   │ 27262.2    │ 212.34        │ 637.021   │ 42.7964   │\n",
       "│ 2   │ 46522.9    │ 391.812       │ 1175.44   │ 39.5793   │\n",
       "│ 3   │ 33385.7    │ 280.754       │ 842.262   │ 39.6381   │\n",
       "│ 4   │ 24892.4    │ 190.354       │ 571.062   │ 43.5896   │"
      ]
     },
     "execution_count": 22,
     "metadata": {},
     "output_type": "execute_result"
    }
   ],
   "source": [
    "S4_1_10 = getStatData(\"Exp01/COM19_N-AVG-1_SN4.LOG\",workChanInd,20000:40000)"
   ]
  },
  {
   "cell_type": "markdown",
   "metadata": {},
   "source": [
    "# Плата №4 \n",
    "Исходный коэффециент усиления, усреднение по 100 точкам\n",
    "файл COM19_N-AVG-100_SN4.LOG"
   ]
  },
  {
   "cell_type": "code",
   "execution_count": 23,
   "metadata": {
    "jupyter": {
     "source_hidden": true
    }
   },
   "outputs": [
    {
     "data": {
      "text/html": [
       "<table class=\"data-frame\"><thead><tr><th></th><th>$\\bar{U}$</th><th>$\\sigma_{U}$</th><th>$Err_{U}$</th><th>$SNR_{U}$</th></tr><tr><th></th><th>Float64</th><th>Float64</th><th>Float64</th><th>Float64</th></tr></thead><tbody><p>4 rows × 4 columns</p><tr><th>1</th><td>26413.1</td><td>37.6375</td><td>112.912</td><td>233.926</td></tr><tr><th>2</th><td>46563.1</td><td>77.2656</td><td>231.797</td><td>200.879</td></tr><tr><th>3</th><td>33403.9</td><td>58.0184</td><td>174.055</td><td>191.916</td></tr><tr><th>4</th><td>24924.0</td><td>40.1129</td><td>120.339</td><td>207.116</td></tr></tbody></table>"
      ],
      "text/latex": [
       "\\begin{tabular}{r|cccc}\n",
       "\t& \\$\\textbackslash{}bar\\{U\\}\\$ & \\$\\textbackslash{}sigma\\_\\{U\\}\\$ & \\$Err\\_\\{U\\}\\$ & \\$SNR\\_\\{U\\}\\$\\\\\n",
       "\t\\hline\n",
       "\t& Float64 & Float64 & Float64 & Float64\\\\\n",
       "\t\\hline\n",
       "\t1 & 26413.1 & 37.6375 & 112.912 & 233.926 \\\\\n",
       "\t2 & 46563.1 & 77.2656 & 231.797 & 200.879 \\\\\n",
       "\t3 & 33403.9 & 58.0184 & 174.055 & 191.916 \\\\\n",
       "\t4 & 24924.0 & 40.1129 & 120.339 & 207.116 \\\\\n",
       "\\end{tabular}\n"
      ],
      "text/plain": [
       "4×4 DataFrame\n",
       "│ Row │ $\\\\bar{U}$ │ $\\\\sigma_{U}$ │ $Err_{U}$ │ $SNR_{U}$ │\n",
       "│     │ \u001b[90mFloat64\u001b[39m    │ \u001b[90mFloat64\u001b[39m       │ \u001b[90mFloat64\u001b[39m   │ \u001b[90mFloat64\u001b[39m   │\n",
       "├─────┼────────────┼───────────────┼───────────┼───────────┤\n",
       "│ 1   │ 26413.1    │ 37.6375       │ 112.912   │ 233.926   │\n",
       "│ 2   │ 46563.1    │ 77.2656       │ 231.797   │ 200.879   │\n",
       "│ 3   │ 33403.9    │ 58.0184       │ 174.055   │ 191.916   │\n",
       "│ 4   │ 24924.0    │ 40.1129       │ 120.339   │ 207.116   │"
      ]
     },
     "execution_count": 23,
     "metadata": {},
     "output_type": "execute_result"
    }
   ],
   "source": [
    "S4_100_10 = getStatData(\"Exp01/COM19_N-AVG-100_SN4.LOG\",workChanInd,20000:40000)"
   ]
  },
  {
   "cell_type": "markdown",
   "metadata": {},
   "source": [
    "# Плата №6 \n",
    "Исходный коэффециент усиления уменьшен в 2 раза, усреднение по 1 точке\n",
    "файл AVG-by-1_DACOnUV-40_SN2_COM5_25.05.2020.LOG"
   ]
  },
  {
   "cell_type": "code",
   "execution_count": 24,
   "metadata": {
    "jupyter": {
     "source_hidden": true
    }
   },
   "outputs": [
    {
     "data": {
      "text/html": [
       "<table class=\"data-frame\"><thead><tr><th></th><th>$\\bar{U}$</th><th>$\\sigma_{U}$</th><th>$Err_{U}$</th><th>$SNR_{U}$</th></tr><tr><th></th><th>Float64</th><th>Float64</th><th>Float64</th><th>Float64</th></tr></thead><tbody><p>4 rows × 4 columns</p><tr><th>1</th><td>45088.9</td><td>50.2322</td><td>150.697</td><td>299.203</td></tr><tr><th>2</th><td>45567.8</td><td>375.396</td><td>1126.19</td><td>40.462</td></tr><tr><th>3</th><td>53457.9</td><td>387.21</td><td>1161.63</td><td>46.0197</td></tr><tr><th>4</th><td>53401.4</td><td>384.379</td><td>1153.14</td><td>46.3097</td></tr></tbody></table>"
      ],
      "text/latex": [
       "\\begin{tabular}{r|cccc}\n",
       "\t& \\$\\textbackslash{}bar\\{U\\}\\$ & \\$\\textbackslash{}sigma\\_\\{U\\}\\$ & \\$Err\\_\\{U\\}\\$ & \\$SNR\\_\\{U\\}\\$\\\\\n",
       "\t\\hline\n",
       "\t& Float64 & Float64 & Float64 & Float64\\\\\n",
       "\t\\hline\n",
       "\t1 & 45088.9 & 50.2322 & 150.697 & 299.203 \\\\\n",
       "\t2 & 45567.8 & 375.396 & 1126.19 & 40.462 \\\\\n",
       "\t3 & 53457.9 & 387.21 & 1161.63 & 46.0197 \\\\\n",
       "\t4 & 53401.4 & 384.379 & 1153.14 & 46.3097 \\\\\n",
       "\\end{tabular}\n"
      ],
      "text/plain": [
       "4×4 DataFrame\n",
       "│ Row │ $\\\\bar{U}$ │ $\\\\sigma_{U}$ │ $Err_{U}$ │ $SNR_{U}$ │\n",
       "│     │ \u001b[90mFloat64\u001b[39m    │ \u001b[90mFloat64\u001b[39m       │ \u001b[90mFloat64\u001b[39m   │ \u001b[90mFloat64\u001b[39m   │\n",
       "├─────┼────────────┼───────────────┼───────────┼───────────┤\n",
       "│ 1   │ 45088.9    │ 50.2322       │ 150.697   │ 299.203   │\n",
       "│ 2   │ 45567.8    │ 375.396       │ 1126.19   │ 40.462    │\n",
       "│ 3   │ 53457.9    │ 387.21        │ 1161.63   │ 46.0197   │\n",
       "│ 4   │ 53401.4    │ 384.379       │ 1153.14   │ 46.3097   │"
      ]
     },
     "execution_count": 24,
     "metadata": {},
     "output_type": "execute_result"
    }
   ],
   "source": [
    "S6_1_5 = getStatData(\"Exp02/AVG-by-1_DACOnUV-40_SN2_COM5_25.05.2020.LOG\",workChanInd,20000:40000)"
   ]
  },
  {
   "cell_type": "markdown",
   "metadata": {},
   "source": [
    "# Плата №6\n",
    "Исходный коэффециент усиления уменьшен в 2 раза, усреднение по 1 точке\n",
    "файл AVG-by-1_DACOnUV-50_SN2_COM5_22.05.2020.LOG"
   ]
  },
  {
   "cell_type": "code",
   "execution_count": 25,
   "metadata": {
    "jupyter": {
     "source_hidden": true
    }
   },
   "outputs": [
    {
     "data": {
      "text/html": [
       "<table class=\"data-frame\"><thead><tr><th></th><th>$\\bar{U}$</th><th>$\\sigma_{U}$</th><th>$Err_{U}$</th><th>$SNR_{U}$</th></tr><tr><th></th><th>Float64</th><th>Float64</th><th>Float64</th><th>Float64</th></tr></thead><tbody><p>4 rows × 4 columns</p><tr><th>1</th><td>59511.6</td><td>259.825</td><td>779.475</td><td>76.3484</td></tr><tr><th>2</th><td>59798.3</td><td>239.661</td><td>718.984</td><td>83.1705</td></tr><tr><th>3</th><td>64605.7</td><td>9.88386</td><td>29.6516</td><td>2178.83</td></tr><tr><th>4</th><td>64597.9</td><td>10.187</td><td>30.561</td><td>2113.74</td></tr></tbody></table>"
      ],
      "text/latex": [
       "\\begin{tabular}{r|cccc}\n",
       "\t& \\$\\textbackslash{}bar\\{U\\}\\$ & \\$\\textbackslash{}sigma\\_\\{U\\}\\$ & \\$Err\\_\\{U\\}\\$ & \\$SNR\\_\\{U\\}\\$\\\\\n",
       "\t\\hline\n",
       "\t& Float64 & Float64 & Float64 & Float64\\\\\n",
       "\t\\hline\n",
       "\t1 & 59511.6 & 259.825 & 779.475 & 76.3484 \\\\\n",
       "\t2 & 59798.3 & 239.661 & 718.984 & 83.1705 \\\\\n",
       "\t3 & 64605.7 & 9.88386 & 29.6516 & 2178.83 \\\\\n",
       "\t4 & 64597.9 & 10.187 & 30.561 & 2113.74 \\\\\n",
       "\\end{tabular}\n"
      ],
      "text/plain": [
       "4×4 DataFrame\n",
       "│ Row │ $\\\\bar{U}$ │ $\\\\sigma_{U}$ │ $Err_{U}$ │ $SNR_{U}$ │\n",
       "│     │ \u001b[90mFloat64\u001b[39m    │ \u001b[90mFloat64\u001b[39m       │ \u001b[90mFloat64\u001b[39m   │ \u001b[90mFloat64\u001b[39m   │\n",
       "├─────┼────────────┼───────────────┼───────────┼───────────┤\n",
       "│ 1   │ 59511.6    │ 259.825       │ 779.475   │ 76.3484   │\n",
       "│ 2   │ 59798.3    │ 239.661       │ 718.984   │ 83.1705   │\n",
       "│ 3   │ 64605.7    │ 9.88386       │ 29.6516   │ 2178.83   │\n",
       "│ 4   │ 64597.9    │ 10.187        │ 30.561    │ 2113.74   │"
      ]
     },
     "execution_count": 25,
     "metadata": {},
     "output_type": "execute_result"
    }
   ],
   "source": [
    "S6_1_5 = getStatData(\"Exp02/AVG-by-1_DACOnUV-50_SN2_COM5_22.05.2020.LOG\",workChanInd,18000:19000)"
   ]
  },
  {
   "cell_type": "markdown",
   "metadata": {},
   "source": [
    "# Плата №6\n",
    "Исходный коэффециент усиления уменьшен в 2 раза, усреднение по 1 точке\n",
    "файл AVG-by-1_DACOnUV-50_SN2_COM5_22.05.2020.LOG"
   ]
  },
  {
   "cell_type": "code",
   "execution_count": 26,
   "metadata": {
    "jupyter": {
     "source_hidden": true
    }
   },
   "outputs": [
    {
     "data": {
      "text/html": [
       "<table class=\"data-frame\"><thead><tr><th></th><th>$\\bar{U}$</th><th>$\\sigma_{U}$</th><th>$Err_{U}$</th><th>$SNR_{U}$</th></tr><tr><th></th><th>Float64</th><th>Float64</th><th>Float64</th><th>Float64</th></tr></thead><tbody><p>4 rows × 4 columns</p><tr><th>1</th><td>45200.7</td><td>60.7022</td><td>182.106</td><td>248.21</td></tr><tr><th>2</th><td>45539.8</td><td>60.4375</td><td>181.312</td><td>251.168</td></tr><tr><th>3</th><td>53440.8</td><td>67.4216</td><td>202.265</td><td>264.212</td></tr><tr><th>4</th><td>53423.0</td><td>64.1411</td><td>192.423</td><td>277.633</td></tr></tbody></table>"
      ],
      "text/latex": [
       "\\begin{tabular}{r|cccc}\n",
       "\t& \\$\\textbackslash{}bar\\{U\\}\\$ & \\$\\textbackslash{}sigma\\_\\{U\\}\\$ & \\$Err\\_\\{U\\}\\$ & \\$SNR\\_\\{U\\}\\$\\\\\n",
       "\t\\hline\n",
       "\t& Float64 & Float64 & Float64 & Float64\\\\\n",
       "\t\\hline\n",
       "\t1 & 45200.7 & 60.7022 & 182.106 & 248.21 \\\\\n",
       "\t2 & 45539.8 & 60.4375 & 181.312 & 251.168 \\\\\n",
       "\t3 & 53440.8 & 67.4216 & 202.265 & 264.212 \\\\\n",
       "\t4 & 53423.0 & 64.1411 & 192.423 & 277.633 \\\\\n",
       "\\end{tabular}\n"
      ],
      "text/plain": [
       "4×4 DataFrame\n",
       "│ Row │ $\\\\bar{U}$ │ $\\\\sigma_{U}$ │ $Err_{U}$ │ $SNR_{U}$ │\n",
       "│     │ \u001b[90mFloat64\u001b[39m    │ \u001b[90mFloat64\u001b[39m       │ \u001b[90mFloat64\u001b[39m   │ \u001b[90mFloat64\u001b[39m   │\n",
       "├─────┼────────────┼───────────────┼───────────┼───────────┤\n",
       "│ 1   │ 45200.7    │ 60.7022       │ 182.106   │ 248.21    │\n",
       "│ 2   │ 45539.8    │ 60.4375       │ 181.312   │ 251.168   │\n",
       "│ 3   │ 53440.8    │ 67.4216       │ 202.265   │ 264.212   │\n",
       "│ 4   │ 53423.0    │ 64.1411       │ 192.423   │ 277.633   │"
      ]
     },
     "execution_count": 26,
     "metadata": {},
     "output_type": "execute_result"
    }
   ],
   "source": [
    "S6_1_5 = getStatData(\"Exp02/AVG-by-100_DACOnUV-40_SN2_COM5_25.05.2020 (1).LOG\",workChanInd,50000:100000)"
   ]
  },
  {
   "cell_type": "markdown",
   "metadata": {},
   "source": [
    "# Плата №6\n",
    "Исходный коэффециент усиления, усреднение по 1 точке, получены Ионовы Д.С.\n",
    "файл oldN1b-25-1.LOG"
   ]
  },
  {
   "cell_type": "code",
   "execution_count": 27,
   "metadata": {
    "jupyter": {
     "source_hidden": true
    }
   },
   "outputs": [
    {
     "data": {
      "text/html": [
       "<table class=\"data-frame\"><thead><tr><th></th><th>$\\bar{U}$</th><th>$\\sigma_{U}$</th><th>$Err_{U}$</th><th>$SNR_{U}$</th></tr><tr><th></th><th>Float64</th><th>Float64</th><th>Float64</th><th>Float64</th></tr></thead><tbody><p>4 rows × 4 columns</p><tr><th>1</th><td>49151.0</td><td>65.069</td><td>195.207</td><td>251.789</td></tr><tr><th>2</th><td>62805.0</td><td>66.5445</td><td>199.634</td><td>314.601</td></tr><tr><th>3</th><td>64616.3</td><td>8.73672</td><td>26.2102</td><td>2465.32</td></tr><tr><th>4</th><td>53920.5</td><td>68.871</td><td>206.613</td><td>260.973</td></tr></tbody></table>"
      ],
      "text/latex": [
       "\\begin{tabular}{r|cccc}\n",
       "\t& \\$\\textbackslash{}bar\\{U\\}\\$ & \\$\\textbackslash{}sigma\\_\\{U\\}\\$ & \\$Err\\_\\{U\\}\\$ & \\$SNR\\_\\{U\\}\\$\\\\\n",
       "\t\\hline\n",
       "\t& Float64 & Float64 & Float64 & Float64\\\\\n",
       "\t\\hline\n",
       "\t1 & 49151.0 & 65.069 & 195.207 & 251.789 \\\\\n",
       "\t2 & 62805.0 & 66.5445 & 199.634 & 314.601 \\\\\n",
       "\t3 & 64616.3 & 8.73672 & 26.2102 & 2465.32 \\\\\n",
       "\t4 & 53920.5 & 68.871 & 206.613 & 260.973 \\\\\n",
       "\\end{tabular}\n"
      ],
      "text/plain": [
       "4×4 DataFrame\n",
       "│ Row │ $\\\\bar{U}$ │ $\\\\sigma_{U}$ │ $Err_{U}$ │ $SNR_{U}$ │\n",
       "│     │ \u001b[90mFloat64\u001b[39m    │ \u001b[90mFloat64\u001b[39m       │ \u001b[90mFloat64\u001b[39m   │ \u001b[90mFloat64\u001b[39m   │\n",
       "├─────┼────────────┼───────────────┼───────────┼───────────┤\n",
       "│ 1   │ 49151.0    │ 65.069        │ 195.207   │ 251.789   │\n",
       "│ 2   │ 62805.0    │ 66.5445       │ 199.634   │ 314.601   │\n",
       "│ 3   │ 64616.3    │ 8.73672       │ 26.2102   │ 2465.32   │\n",
       "│ 4   │ 53920.5    │ 68.871        │ 206.613   │ 260.973   │"
      ]
     },
     "execution_count": 27,
     "metadata": {},
     "output_type": "execute_result"
    }
   ],
   "source": [
    "S6_1_5 = getStatData(\"Exp00/oldN1b-25-1.LOG\",workChanInd,1:400)"
   ]
  },
  {
   "cell_type": "markdown",
   "metadata": {},
   "source": [
    "# Плата №6\n",
    "Исходный коэффециент усиления, усреднение по 100 точкам, получены Ионовы Д.С.\n",
    "файл oldN100b-25-1.LOG"
   ]
  },
  {
   "cell_type": "code",
   "execution_count": 28,
   "metadata": {
    "jupyter": {
     "source_hidden": true
    }
   },
   "outputs": [
    {
     "data": {
      "text/html": [
       "<table class=\"data-frame\"><thead><tr><th></th><th>$\\bar{U}$</th><th>$\\sigma_{U}$</th><th>$Err_{U}$</th><th>$SNR_{U}$</th></tr><tr><th></th><th>Float64</th><th>Float64</th><th>Float64</th><th>Float64</th></tr></thead><tbody><p>4 rows × 4 columns</p><tr><th>1</th><td>48924.0</td><td>42.625</td><td>127.875</td><td>382.592</td></tr><tr><th>2</th><td>62882.5</td><td>49.9426</td><td>149.828</td><td>419.698</td></tr><tr><th>3</th><td>64623.2</td><td>2.16621</td><td>6.49864</td><td>9944.12</td></tr><tr><th>4</th><td>54009.8</td><td>47.1853</td><td>141.556</td><td>381.543</td></tr></tbody></table>"
      ],
      "text/latex": [
       "\\begin{tabular}{r|cccc}\n",
       "\t& \\$\\textbackslash{}bar\\{U\\}\\$ & \\$\\textbackslash{}sigma\\_\\{U\\}\\$ & \\$Err\\_\\{U\\}\\$ & \\$SNR\\_\\{U\\}\\$\\\\\n",
       "\t\\hline\n",
       "\t& Float64 & Float64 & Float64 & Float64\\\\\n",
       "\t\\hline\n",
       "\t1 & 48924.0 & 42.625 & 127.875 & 382.592 \\\\\n",
       "\t2 & 62882.5 & 49.9426 & 149.828 & 419.698 \\\\\n",
       "\t3 & 64623.2 & 2.16621 & 6.49864 & 9944.12 \\\\\n",
       "\t4 & 54009.8 & 47.1853 & 141.556 & 381.543 \\\\\n",
       "\\end{tabular}\n"
      ],
      "text/plain": [
       "4×4 DataFrame\n",
       "│ Row │ $\\\\bar{U}$ │ $\\\\sigma_{U}$ │ $Err_{U}$ │ $SNR_{U}$ │\n",
       "│     │ \u001b[90mFloat64\u001b[39m    │ \u001b[90mFloat64\u001b[39m       │ \u001b[90mFloat64\u001b[39m   │ \u001b[90mFloat64\u001b[39m   │\n",
       "├─────┼────────────┼───────────────┼───────────┼───────────┤\n",
       "│ 1   │ 48924.0    │ 42.625        │ 127.875   │ 382.592   │\n",
       "│ 2   │ 62882.5    │ 49.9426       │ 149.828   │ 419.698   │\n",
       "│ 3   │ 64623.2    │ 2.16621       │ 6.49864   │ 9944.12   │\n",
       "│ 4   │ 54009.8    │ 47.1853       │ 141.556   │ 381.543   │"
      ]
     },
     "execution_count": 28,
     "metadata": {},
     "output_type": "execute_result"
    }
   ],
   "source": [
    "S6_1_5 = getStatData(\"Exp00/oldN100b-25-1.LOG\",workChanInd,1:400)"
   ]
  },
  {
   "cell_type": "markdown",
   "metadata": {},
   "source": [
    "# Плата №6\n",
    "Исходный коэффециент усиления уменьшен в 5 раза, усреднение по 1 точке\n",
    "файл AVG-by-1_CACOnUV-100_DACOnBL-28_SN2_COM5_07.06.2020.LOG"
   ]
  },
  {
   "cell_type": "code",
   "execution_count": 29,
   "metadata": {
    "jupyter": {
     "source_hidden": true
    }
   },
   "outputs": [
    {
     "data": {
      "text/html": [
       "<table class=\"data-frame\"><thead><tr><th></th><th>$\\bar{U}$</th><th>$\\sigma_{U}$</th><th>$Err_{U}$</th><th>$SNR_{U}$</th></tr><tr><th></th><th>Float64</th><th>Float64</th><th>Float64</th><th>Float64</th></tr></thead><tbody><p>4 rows × 4 columns</p><tr><th>1</th><td>60794.8</td><td>65.0265</td><td>195.08</td><td>311.641</td></tr><tr><th>2</th><td>60653.6</td><td>73.9044</td><td>221.713</td><td>273.568</td></tr><tr><th>3</th><td>51951.0</td><td>227.242</td><td>681.726</td><td>76.2052</td></tr><tr><th>4</th><td>52231.3</td><td>242.223</td><td>726.668</td><td>71.8778</td></tr></tbody></table>"
      ],
      "text/latex": [
       "\\begin{tabular}{r|cccc}\n",
       "\t& \\$\\textbackslash{}bar\\{U\\}\\$ & \\$\\textbackslash{}sigma\\_\\{U\\}\\$ & \\$Err\\_\\{U\\}\\$ & \\$SNR\\_\\{U\\}\\$\\\\\n",
       "\t\\hline\n",
       "\t& Float64 & Float64 & Float64 & Float64\\\\\n",
       "\t\\hline\n",
       "\t1 & 60794.8 & 65.0265 & 195.08 & 311.641 \\\\\n",
       "\t2 & 60653.6 & 73.9044 & 221.713 & 273.568 \\\\\n",
       "\t3 & 51951.0 & 227.242 & 681.726 & 76.2052 \\\\\n",
       "\t4 & 52231.3 & 242.223 & 726.668 & 71.8778 \\\\\n",
       "\\end{tabular}\n"
      ],
      "text/plain": [
       "4×4 DataFrame\n",
       "│ Row │ $\\\\bar{U}$ │ $\\\\sigma_{U}$ │ $Err_{U}$ │ $SNR_{U}$ │\n",
       "│     │ \u001b[90mFloat64\u001b[39m    │ \u001b[90mFloat64\u001b[39m       │ \u001b[90mFloat64\u001b[39m   │ \u001b[90mFloat64\u001b[39m   │\n",
       "├─────┼────────────┼───────────────┼───────────┼───────────┤\n",
       "│ 1   │ 60794.8    │ 65.0265       │ 195.08    │ 311.641   │\n",
       "│ 2   │ 60653.6    │ 73.9044       │ 221.713   │ 273.568   │\n",
       "│ 3   │ 51951.0    │ 227.242       │ 681.726   │ 76.2052   │\n",
       "│ 4   │ 52231.3    │ 242.223       │ 726.668   │ 71.8778   │"
      ]
     },
     "execution_count": 29,
     "metadata": {},
     "output_type": "execute_result"
    }
   ],
   "source": [
    "S4_1_2 = getStatData(\"Exp03/AVG-by-1_CACOnUV-100_DACOnBL-28_SN2_COM5_07.06.2020.LOG\",workChanInd,5000:20000)"
   ]
  },
  {
   "cell_type": "markdown",
   "metadata": {},
   "source": [
    "# Плата №6\n",
    "Исходный коэффециент усиления уменьшен в 5 раза, усреднение по 100 точкам\n",
    "файл AVG-by-100_CACOnUV-100_DACOnBL-28_SN2_COM5_08.06.2020.LOG"
   ]
  },
  {
   "cell_type": "code",
   "execution_count": 30,
   "metadata": {
    "jupyter": {
     "source_hidden": true
    }
   },
   "outputs": [
    {
     "data": {
      "text/html": [
       "<table class=\"data-frame\"><thead><tr><th></th><th>$\\bar{U}$</th><th>$\\sigma_{U}$</th><th>$Err_{U}$</th><th>$SNR_{U}$</th></tr><tr><th></th><th>Float64</th><th>Float64</th><th>Float64</th><th>Float64</th></tr></thead><tbody><p>4 rows × 4 columns</p><tr><th>1</th><td>60331.1</td><td>10.699</td><td>32.0971</td><td>1879.65</td></tr><tr><th>2</th><td>60623.5</td><td>11.3823</td><td>34.1468</td><td>1775.38</td></tr><tr><th>3</th><td>51779.8</td><td>21.9303</td><td>65.7908</td><td>787.037</td></tr><tr><th>4</th><td>52178.4</td><td>22.6646</td><td>67.9937</td><td>767.401</td></tr></tbody></table>"
      ],
      "text/latex": [
       "\\begin{tabular}{r|cccc}\n",
       "\t& \\$\\textbackslash{}bar\\{U\\}\\$ & \\$\\textbackslash{}sigma\\_\\{U\\}\\$ & \\$Err\\_\\{U\\}\\$ & \\$SNR\\_\\{U\\}\\$\\\\\n",
       "\t\\hline\n",
       "\t& Float64 & Float64 & Float64 & Float64\\\\\n",
       "\t\\hline\n",
       "\t1 & 60331.1 & 10.699 & 32.0971 & 1879.65 \\\\\n",
       "\t2 & 60623.5 & 11.3823 & 34.1468 & 1775.38 \\\\\n",
       "\t3 & 51779.8 & 21.9303 & 65.7908 & 787.037 \\\\\n",
       "\t4 & 52178.4 & 22.6646 & 67.9937 & 767.401 \\\\\n",
       "\\end{tabular}\n"
      ],
      "text/plain": [
       "4×4 DataFrame\n",
       "│ Row │ $\\\\bar{U}$ │ $\\\\sigma_{U}$ │ $Err_{U}$ │ $SNR_{U}$ │\n",
       "│     │ \u001b[90mFloat64\u001b[39m    │ \u001b[90mFloat64\u001b[39m       │ \u001b[90mFloat64\u001b[39m   │ \u001b[90mFloat64\u001b[39m   │\n",
       "├─────┼────────────┼───────────────┼───────────┼───────────┤\n",
       "│ 1   │ 60331.1    │ 10.699        │ 32.0971   │ 1879.65   │\n",
       "│ 2   │ 60623.5    │ 11.3823       │ 34.1468   │ 1775.38   │\n",
       "│ 3   │ 51779.8    │ 21.9303       │ 65.7908   │ 787.037   │\n",
       "│ 4   │ 52178.4    │ 22.6646       │ 67.9937   │ 767.401   │"
      ]
     },
     "execution_count": 30,
     "metadata": {},
     "output_type": "execute_result"
    }
   ],
   "source": [
    "S4_1_2 = getStatData(\"Exp03/AVG-by-100_CACOnUV-100_DACOnBL-28_SN2_COM5_08.06.2020.LOG\",workChanInd,10000:20000)"
   ]
  }
 ],
 "metadata": {
  "kernelspec": {
   "display_name": "Julia 1.2.0",
   "language": "julia",
   "name": "julia-1.2"
  },
  "language_info": {
   "file_extension": ".jl",
   "mimetype": "application/julia",
   "name": "julia",
   "version": "1.2.0"
  }
 },
 "nbformat": 4,
 "nbformat_minor": 4
}
